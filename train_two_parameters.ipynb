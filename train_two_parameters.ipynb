{
 "cells": [
  {
   "cell_type": "code",
   "execution_count": 1,
   "metadata": {
    "collapsed": true
   },
   "outputs": [],
   "source": [
    "from models.fcnn import Net\n",
    "from data.mag_data_load import mag_load\n",
    "\n",
    "import torch.optim as optim\n",
    "import torch\n",
    "import torch.nn as nn\n",
    "from torch.autograd import Variable\n",
    "import torchvision.transforms as transform\n",
    "import numpy as np"
   ]
  },
  {
   "cell_type": "code",
   "execution_count": 3,
   "metadata": {
    "collapsed": true
   },
   "outputs": [],
   "source": [
    "trainset = mag_load('./data/T1_T2', train = True, download = True)\n",
    "trainloader = torch.utils.data.DataLoader(trainset, batch_size = 4, shuffle = True)\n",
    "\n",
    "testset = mag_load('./data/T1_T2', train = False, download = True)\n",
    "testloader = torch.utils.data.DataLoader(testset, batch_size = 4, shuffle = False)"
   ]
  },
  {
   "cell_type": "code",
   "execution_count": 6,
   "metadata": {},
   "outputs": [
    {
     "name": "stdout",
     "output_type": "stream",
     "text": [
      "done\n"
     ]
    }
   ],
   "source": [
    "net = Net(850,[50,80],2)\n",
    "criterion = nn.MSELoss()\n",
    "\n",
    "#optimizer = optim.SGD(net.parameters(), lr = 0.01, momentum = 0.9)\n",
    "optimizer = optim.Adam(net.parameters())\n",
    "\n",
    "for epoch in range(100):\n",
    "\tfor i, data in enumerate(trainloader, 0):\n",
    "\t\tsig, T = data\n",
    "\t\tsig, T = Variable(sig), Variable(T)\n",
    "\t\toptimizer.zero_grad()\n",
    "\t\toutputs = net(sig)\n",
    "\t\tloss = criterion(outputs, T)\n",
    "\t\tloss.backward()\n",
    "\t\toptimizer.step()\n",
    "\n",
    "print('done')"
   ]
  },
  {
   "cell_type": "code",
   "execution_count": 7,
   "metadata": {},
   "outputs": [
    {
     "name": "stdout",
     "output_type": "stream",
     "text": [
      "Variable containing:\n",
      " 0.2365  0.2637\n",
      " 0.5334  0.9090\n",
      " 0.0080  0.3313\n",
      " 0.2883  0.8133\n",
      "[torch.FloatTensor of size 4x2]\n",
      "\n",
      "Variable containing:\n",
      " 0.2428  0.2683\n",
      " 0.5365  0.9352\n",
      " 0.0124  0.3321\n",
      " 0.2889  0.8242\n",
      "[torch.FloatTensor of size 4x2]\n",
      "\n"
     ]
    }
   ],
   "source": [
    "test_iter = iter(testloader)\n",
    "sig_t, T_t = test_iter.next()\n",
    "sig_t, T_t = Variable(sig_t), Variable(T_t)\n",
    "out = net(sig_t)\n",
    "print(out)\n",
    "print(T_t)"
   ]
  },
  {
   "cell_type": "code",
   "execution_count": 8,
   "metadata": {},
   "outputs": [
    {
     "name": "stdout",
     "output_type": "stream",
     "text": [
      "Variable containing:\n",
      "1.00000e-04 *\n",
      "  1.8041\n",
      "[torch.FloatTensor of size 1]\n",
      "\n"
     ]
    }
   ],
   "source": [
    "m = 0\n",
    "for i, data in enumerate(testloader, 0):\n",
    "\tsig, T = data\n",
    "\tsig, T = Variable(sig), Variable(T)\n",
    "\toutputs = net(sig)\n",
    "\tloss = criterion(outputs, T)\n",
    "\tm += loss\n",
    "\n",
    "m /= i\n",
    "print(m)\n"
   ]
  }
 ],
 "metadata": {
  "kernelspec": {
   "display_name": "Python 3",
   "language": "python",
   "name": "python3"
  },
  "language_info": {
   "codemirror_mode": {
    "name": "ipython",
    "version": 3
   },
   "file_extension": ".py",
   "mimetype": "text/x-python",
   "name": "python",
   "nbconvert_exporter": "python",
   "pygments_lexer": "ipython3",
   "version": "3.6.2"
  }
 },
 "nbformat": 4,
 "nbformat_minor": 2
}
