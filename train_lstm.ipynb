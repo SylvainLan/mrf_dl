{
 "cells": [
  {
   "cell_type": "code",
   "execution_count": 1,
   "metadata": {
    "collapsed": true
   },
   "outputs": [],
   "source": [
    "import torch\n",
    "from torch.autograd import Variable\n",
    "from models.gflstm import GFLSTM\n",
    "import torch.nn as nn\n",
    "import torch.nn.functional as F\n",
    "import torch.optim as optim\n",
    "from data.mag_data_load import mag_load"
   ]
  },
  {
   "cell_type": "code",
   "execution_count": 5,
   "metadata": {
    "collapsed": true
   },
   "outputs": [],
   "source": [
    "b_size = 1\n",
    "\n",
    "trainset = mag_load('./data/T1_class', train = True, download = True)\n",
    "trainloader = torch.utils.data.DataLoader(trainset, batch_size = b_size, shuffle = True)\n",
    "testset = mag_load('./data/T1_class', train = False, download = True)\n",
    "testloader = torch.utils.data.DataLoader(testset, batch_size = 1, shuffle = False)"
   ]
  },
  {
   "cell_type": "code",
   "execution_count": 3,
   "metadata": {
    "collapsed": true
   },
   "outputs": [],
   "source": [
    "gf = GFLSTM(850, 100, 2)\n",
    "lastL = nn.Linear(1000, 44)\n",
    "criterion = nn.MSELoss()\n",
    "optimizer = optim.SGD(gf.parameters(),lr = 0.01, momentum = 0.9)"
   ]
  },
  {
   "cell_type": "code",
   "execution_count": 6,
   "metadata": {
    "collapsed": true
   },
   "outputs": [],
   "source": [
    "for epoch in range(1):\n",
    "    for i, data in enumerate(trainloader):\n",
    "        sig, T = data\n",
    "        sig, T = Variable(sig), Variable(T)\n",
    "        optimizer.zero_grad()\n",
    "        h = [[Variable(torch.zeros(b_size,100)), Variable(torch.zeros(b_size,100))]]\n",
    "        c = [Variable(torch.zeros(b_size,100)), Variable(torch.zeros(b_size,100))]\n",
    "        for t in range(11):\n",
    "            h_next, c = gf(sig, h[t], c)\n",
    "            h.append(h_next)\n",
    "        out = F.sigmoid(lastL(torch.cat([h[l + 1][-1] for l in range(10)], 1)))\n",
    "        loss = criterion(out, T)\n",
    "        loss.backward()\n",
    "        optimizer.step()"
   ]
  },
  {
   "cell_type": "code",
   "execution_count": 7,
   "metadata": {
    "collapsed": true
   },
   "outputs": [],
   "source": [
    "h = [[Variable(torch.zeros(b_size,100)), Variable(torch.zeros(b_size,100))]]\n",
    "c = [Variable(torch.zeros(b_size,100)), Variable(torch.zeros(b_size,100))]\n",
    "for t in range(11):\n",
    "    h_next, c = gf(sig, h[t], c)\n",
    "    h.append(h_next)\n",
    "\n",
    "out = F.sigmoid(lastL(torch.cat([h[l + 1][-1] for l in range(10)], 1)))"
   ]
  },
  {
   "cell_type": "code",
   "execution_count": 3,
   "metadata": {},
   "outputs": [],
   "source": [
    "gf = torch.load('gflstm_trained.pt', map_location=lambda storage, loc: storage)"
   ]
  },
  {
   "cell_type": "code",
   "execution_count": 11,
   "metadata": {},
   "outputs": [],
   "source": [
    "dataiter = iter(trainloader)\n",
    "sig, lab = dataiter.next()\n",
    "sig = Variable(sig)\n"
   ]
  },
  {
   "cell_type": "code",
   "execution_count": 12,
   "metadata": {},
   "outputs": [
    {
     "name": "stdout",
     "output_type": "stream",
     "text": [
      "\n",
      "\n",
      "Columns 0 to 12 \n",
      "    0     0     0     1     0     0     0     0     0     0     0     0     0\n",
      "\n",
      "Columns 13 to 25 \n",
      "    0     0     0     0     0     0     0     0     0     0     0     0     0\n",
      "\n",
      "Columns 26 to 38 \n",
      "    0     0     0     0     0     0     0     1     0     0     0     0     0\n",
      "\n",
      "Columns 39 to 43 \n",
      "    0     0     0     0     0\n",
      "[torch.FloatTensor of size 1x44]\n",
      "\n"
     ]
    },
    {
     "ename": "NameError",
     "evalue": "name 'lastL' is not defined",
     "output_type": "error",
     "traceback": [
      "\u001b[0;31m---------------------------------------------------------------------------\u001b[0m",
      "\u001b[0;31mNameError\u001b[0m                                 Traceback (most recent call last)",
      "\u001b[0;32m<ipython-input-12-413dd8bdc531>\u001b[0m in \u001b[0;36m<module>\u001b[0;34m()\u001b[0m\n\u001b[1;32m      5\u001b[0m     \u001b[0mh_next\u001b[0m\u001b[0;34m,\u001b[0m \u001b[0mc\u001b[0m \u001b[0;34m=\u001b[0m \u001b[0mgf\u001b[0m\u001b[0;34m(\u001b[0m\u001b[0msig\u001b[0m\u001b[0;34m,\u001b[0m \u001b[0mh\u001b[0m\u001b[0;34m[\u001b[0m\u001b[0mt\u001b[0m\u001b[0;34m]\u001b[0m\u001b[0;34m,\u001b[0m \u001b[0mc\u001b[0m\u001b[0;34m)\u001b[0m\u001b[0;34m\u001b[0m\u001b[0m\n\u001b[1;32m      6\u001b[0m     \u001b[0mh\u001b[0m\u001b[0;34m.\u001b[0m\u001b[0mappend\u001b[0m\u001b[0;34m(\u001b[0m\u001b[0mh_next\u001b[0m\u001b[0;34m)\u001b[0m\u001b[0;34m\u001b[0m\u001b[0m\n\u001b[0;32m----> 7\u001b[0;31m \u001b[0mout\u001b[0m \u001b[0;34m=\u001b[0m \u001b[0mF\u001b[0m\u001b[0;34m.\u001b[0m\u001b[0msigmoid\u001b[0m\u001b[0;34m(\u001b[0m\u001b[0mlastL\u001b[0m\u001b[0;34m(\u001b[0m\u001b[0mtorch\u001b[0m\u001b[0;34m.\u001b[0m\u001b[0mcat\u001b[0m\u001b[0;34m(\u001b[0m\u001b[0;34m[\u001b[0m\u001b[0mh\u001b[0m\u001b[0;34m[\u001b[0m\u001b[0ml\u001b[0m \u001b[0;34m+\u001b[0m \u001b[0;36m1\u001b[0m\u001b[0;34m]\u001b[0m\u001b[0;34m[\u001b[0m\u001b[0;34m-\u001b[0m\u001b[0;36m1\u001b[0m\u001b[0;34m]\u001b[0m \u001b[0;32mfor\u001b[0m \u001b[0ml\u001b[0m \u001b[0;32min\u001b[0m \u001b[0mrange\u001b[0m\u001b[0;34m(\u001b[0m\u001b[0;36m10\u001b[0m\u001b[0;34m)\u001b[0m\u001b[0;34m]\u001b[0m\u001b[0;34m,\u001b[0m \u001b[0;36m1\u001b[0m\u001b[0;34m)\u001b[0m\u001b[0;34m)\u001b[0m\u001b[0;34m)\u001b[0m\u001b[0;34m\u001b[0m\u001b[0m\n\u001b[0m\u001b[1;32m      8\u001b[0m \u001b[0mprint\u001b[0m\u001b[0;34m(\u001b[0m\u001b[0mout\u001b[0m\u001b[0;34m)\u001b[0m\u001b[0;34m\u001b[0m\u001b[0m\n",
      "\u001b[0;31mNameError\u001b[0m: name 'lastL' is not defined"
     ]
    }
   ],
   "source": [
    "print(lab)\n",
    "h = [[Variable(torch.zeros(b_size,100)), Variable(torch.zeros(b_size,100))]]\n",
    "c = [Variable(torch.zeros(b_size,100)), Variable(torch.zeros(b_size,100))]\n",
    "for t in range(11):\n",
    "    h_next, c = gf(sig, h[t], c)\n",
    "    h.append(h_next)\n",
    "out = F.sigmoid(lastL(torch.cat([h[l + 1][-1] for l in range(10)], 1)))\n",
    "print(out)"
   ]
  },
  {
   "cell_type": "code",
   "execution_count": null,
   "metadata": {
    "collapsed": true
   },
   "outputs": [],
   "source": []
  }
 ],
 "metadata": {
  "kernelspec": {
   "display_name": "Python 3",
   "language": "python",
   "name": "python3"
  },
  "language_info": {
   "codemirror_mode": {
    "name": "ipython",
    "version": 3
   },
   "file_extension": ".py",
   "mimetype": "text/x-python",
   "name": "python",
   "nbconvert_exporter": "python",
   "pygments_lexer": "ipython3",
   "version": "3.6.2"
  }
 },
 "nbformat": 4,
 "nbformat_minor": 2
}
