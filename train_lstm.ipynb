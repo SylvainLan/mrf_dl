{
 "cells": [
  {
   "cell_type": "code",
   "execution_count": 1,
   "metadata": {},
   "outputs": [],
   "source": [
    "import torch\n",
    "from torch.autograd import Variable\n",
    "from models.gflstm import GFLSTM\n",
    "import torch.nn as nn\n",
    "import torch.nn.functional as F\n",
    "import torch.optim as optim\n",
    "from data.mag_data_load import mag_load"
   ]
  },
  {
   "cell_type": "code",
   "execution_count": 2,
   "metadata": {
    "collapsed": true
   },
   "outputs": [],
   "source": [
    "b_size = 4\n",
    "\n",
    "trainset = mag_load('./data/T1_class', train = True, download = True)\n",
    "trainloader = torch.utils.data.DataLoader(trainset, batch_size = b_size, shuffle = True)\n",
    "testset = mag_load('./data/T1_class', train = False, download = True)\n",
    "testloader = torch.utils.data.DataLoader(testset, batch_size = 1, shuffle = False)"
   ]
  },
  {
   "cell_type": "code",
   "execution_count": 3,
   "metadata": {
    "collapsed": true
   },
   "outputs": [],
   "source": [
    "gf = GFLSTM(850, 100, 2)\n",
    "lastL = nn.Linear(1000, 44)\n",
    "criterion = nn.MSELoss()\n",
    "optimizer = optim.SGD(gf.parameters(),lr = 0.01, momentum = 0.9)"
   ]
  },
  {
   "cell_type": "code",
   "execution_count": 6,
   "metadata": {},
   "outputs": [],
   "source": [
    "for epoch in range(1):\n",
    "    for i, data in enumerate(trainloader):\n",
    "        sig, T = data\n",
    "        sig, T = Variable(sig), Variable(T)\n",
    "        optimizer.zero_grad()\n",
    "        h = [[Variable(torch.zeros(b_size,100)), Variable(torch.zeros(b_size,100))]]\n",
    "        c = [Variable(torch.zeros(b_size,100)), Variable(torch.zeros(b_size,100))]\n",
    "        for t in range(11):\n",
    "            h_next, c = gf(sig, h[t], c)\n",
    "            h.append(h_next)\n",
    "        out = F.sigmoid(lastL(torch.cat([h[l + 1][-1] for l in range(10)], 1)))\n",
    "        loss = criterion(out, T)\n",
    "        loss.backward()\n",
    "        optimizer.step()"
   ]
  },
  {
   "cell_type": "code",
   "execution_count": 7,
   "metadata": {},
   "outputs": [],
   "source": [
    "h = [[Variable(torch.zeros(b_size,100)), Variable(torch.zeros(b_size,100))]]\n",
    "c = [Variable(torch.zeros(b_size,100)), Variable(torch.zeros(b_size,100))]\n",
    "for t in range(11):\n",
    "    h_next, c = gf(sig, h[t], c)\n",
    "    h.append(h_next)\n",
    "\n",
    "out = F.sigmoid(lastL(torch.cat([h[l + 1][-1] for l in range(10)], 1)))"
   ]
  }
 ],
 "metadata": {
  "kernelspec": {
   "display_name": "Python 3",
   "language": "python",
   "name": "python3"
  },
  "language_info": {
   "codemirror_mode": {
    "name": "ipython",
    "version": 3
   },
   "file_extension": ".py",
   "mimetype": "text/x-python",
   "name": "python",
   "nbconvert_exporter": "python",
   "pygments_lexer": "ipython3",
   "version": "3.6.2"
  }
 },
 "nbformat": 4,
 "nbformat_minor": 2
}
